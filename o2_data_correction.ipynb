{
 "cells": [
  {
   "cell_type": "code",
   "execution_count": 1,
   "metadata": {
    "collapsed": false
   },
   "outputs": [],
   "source": [
    "#Saturated Oxygen Data Correction\n",
    "from oxyfloat import OxyFloat, RequiredVariableNotPresent, OpenDAPServerError\n",
    "of = OxyFloat()"
   ]
  },
  {
   "cell_type": "code",
   "execution_count": 2,
   "metadata": {
    "collapsed": false
   },
   "outputs": [],
   "source": [
    "oga_floats = of.get_oxy_floats()"
   ]
  },
  {
   "cell_type": "code",
   "execution_count": 3,
   "metadata": {
    "collapsed": true
   },
   "outputs": [],
   "source": [
    "# Testing with a float that has data\n",
    "oga_floats = ['1900650']\n",
    "test_file = 'D1900650_137.nc'"
   ]
  },
  {
   "cell_type": "code",
   "execution_count": 4,
   "metadata": {
    "collapsed": false
   },
   "outputs": [
    {
     "name": "stdout",
     "output_type": "stream",
     "text": [
      "Reading data from ...IOLIS-ARGO-GDAC-OBS/coriolis/1900650/profiles/D1900650_137.nc\n"
     ]
    }
   ],
   "source": [
    "for dac_url in of.get_dac_urls(oga_floats):\n",
    "    for profile_url in of.get_profile_opendap_urls(dac_url):\n",
    "        try:\n",
    "            if not profile_url.endswith(test_file):\n",
    "                continue\n",
    "        except NameError:\n",
    "            pass\n",
    "        print 'Reading data from ...' + profile_url[40:]\n",
    "        try:\n",
    "            d = of.get_profile_data(profile_url)\n",
    "        except RequiredVariableNotPresent as e:\n",
    "            print e\n",
    "        except OpenDAPServerError as e:\n",
    "            print e"
   ]
  },
  {
   "cell_type": "code",
   "execution_count": 5,
   "metadata": {
    "collapsed": false,
    "scrolled": true
   },
   "outputs": [
    {
     "name": "stdout",
     "output_type": "stream",
     "text": [
      "['lon', 'o', 'p', 's', 't', 'lat', 'dt']\n",
      "SEA PRESSURE (decibar)\n",
      "[  4.30000019   5.9000001    9.10000038  13.90000057  19.5         24.39999962\n",
      "  29.5         34.5         39.59999847  44.59999847]\n",
      "DISSOLVED OXYGEN (micromole/kg)\n",
      "[ 206.49000549  206.38000488  206.30000305  206.8500061   206.86000061\n",
      "  211.50999451  218.30999756  232.38000488  216.80000305  190.08000183]\n"
     ]
    }
   ],
   "source": [
    "# Demonstrate reading the data\n",
    "print d.keys()\n",
    "print d['p'][0]['long_name'] + ' (' + d['p'][0]['units'] + ')'\n",
    "print d['p'][1][:10]\n",
    "print d['o'][0]['long_name'] + ' (' + d['o'][0]['units'] + ')'\n",
    "print d['o'][1][:10]"
   ]
  },
  {
   "cell_type": "code",
   "execution_count": 8,
   "metadata": {
    "collapsed": false
   },
   "outputs": [
    {
     "name": "stdout",
     "output_type": "stream",
     "text": [
      "['comment', '_FillValue', 'C_format', 'resolution', 'FORTRAN_format', 'long_name', 'valid_min', 'units', 'valid_max']\n"
     ]
    }
   ],
   "source": [
    "print d['o'][0].keys()"
   ]
  },
  {
   "cell_type": "markdown",
   "metadata": {},
   "source": [
    "The code below is form the old notebook. Some of it may be folded into oxyfloat functions."
   ]
  },
  {
   "cell_type": "code",
   "execution_count": 6,
   "metadata": {
    "collapsed": false
   },
   "outputs": [],
   "source": [
    "#The p here is for depth...maybe\n",
    "#That's why it said the unit was km\n",
    "def dens_formula(p , t , s):\n",
    "    C = (999.83 + (5.053*p) - (.048*(p**2)))\n",
    "    B =  .808 - (.0085*p)\n",
    "    a = .0708*((1 + (.351*p)) + .068*(1 - (.0683*p))*t)\n",
    "    y = .003*(1 - (.059*p) - .012*(1 - .064*p)*t)\n",
    "    dens = C + (B*s) - (a*t) - ((y*(35 - s))*t)\n",
    "    return dens"
   ]
  },
  {
   "cell_type": "code",
   "execution_count": 7,
   "metadata": {
    "collapsed": false
   },
   "outputs": [
    {
     "ename": "NameError",
     "evalue": "name 'p' is not defined",
     "output_type": "error",
     "traceback": [
      "\u001b[1;31m---------------------------------------------------------------------------\u001b[0m",
      "\u001b[1;31mNameError\u001b[0m                                 Traceback (most recent call last)",
      "\u001b[1;32m<ipython-input-7-6c0c8751dbd2>\u001b[0m in \u001b[0;36m<module>\u001b[1;34m()\u001b[0m\n\u001b[1;32m----> 1\u001b[1;33m \u001b[0mdens_formula\u001b[0m\u001b[1;33m(\u001b[0m\u001b[0mp\u001b[0m \u001b[1;33m,\u001b[0m \u001b[0mt\u001b[0m \u001b[1;33m,\u001b[0m \u001b[0ms\u001b[0m\u001b[1;33m)\u001b[0m\u001b[1;33m\u001b[0m\u001b[0m\n\u001b[0m",
      "\u001b[1;31mNameError\u001b[0m: name 'p' is not defined"
     ]
    }
   ],
   "source": [
    "dens_formula(p , t , s)"
   ]
  },
  {
   "cell_type": "code",
   "execution_count": null,
   "metadata": {
    "collapsed": true
   },
   "outputs": [],
   "source": [
    "def dens_formula(p , t , s):\n",
    "    p = p / 10.0\n",
    "    pw = 999.842594 + ((6.793952 * (10**-abs(2)))*t) - ((9.095290 * (10**-abs(3)))*(t**2)) + ((1.001685 * (10**-abs(4)))*(t**3)) - ((1.120083 * (10**-abs(6)))*(t**4)) + ((6.536332 * (10**-abs(9))*(t**5))        \n",
    "    "
   ]
  }
 ],
 "metadata": {
  "kernelspec": {
   "display_name": "Python 2",
   "language": "python",
   "name": "python2"
  },
  "language_info": {
   "codemirror_mode": {
    "name": "ipython",
    "version": 2
   },
   "file_extension": ".py",
   "mimetype": "text/x-python",
   "name": "python",
   "nbconvert_exporter": "python",
   "pygments_lexer": "ipython2",
   "version": "2.7.9"
  }
 },
 "nbformat": 4,
 "nbformat_minor": 0
}
